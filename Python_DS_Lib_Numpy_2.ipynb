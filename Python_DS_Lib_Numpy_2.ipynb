{
 "cells": [
  {
   "cell_type": "code",
   "execution_count": null,
   "metadata": {
    "id": "8U7chnyMfag2"
   },
   "outputs": [],
   "source": [
    "#3x + 2y + z = 45\n",
    "#x + y + 5z = 67\n",
    "#5x + 5y + 2z = 50"
   ]
  },
  {
   "cell_type": "code",
   "execution_count": null,
   "metadata": {
    "colab": {
     "base_uri": "https://localhost:8080/"
    },
    "id": "wC9X4g-8gKFy",
    "outputId": "1ce2ebcd-6803-46c8-9cfe-d4d0e5c2502e"
   },
   "outputs": [
    {
     "name": "stdout",
     "output_type": "stream",
     "text": [
      "[[3 5 8]\n",
      " [2 8 6]\n",
      " [1 2 3]]\n"
     ]
    }
   ],
   "source": [
    "import numpy as np\n",
    "a = np.array([[3,5,8],[2,8,6],[1,2,3]])\n",
    "print(a)"
   ]
  },
  {
   "cell_type": "code",
   "execution_count": null,
   "metadata": {
    "colab": {
     "base_uri": "https://localhost:8080/"
    },
    "id": "8lTUUIeogQZb",
    "outputId": "520410ec-e850-4792-e9e0-43bef6b87318"
   },
   "outputs": [
    {
     "name": "stdout",
     "output_type": "stream",
     "text": [
      "[[3 2 1]]\n"
     ]
    }
   ],
   "source": [
    "b = np.array([[3,2,1]])\n",
    "print(b)"
   ]
  },
  {
   "cell_type": "code",
   "execution_count": null,
   "metadata": {
    "colab": {
     "base_uri": "https://localhost:8080/"
    },
    "id": "KBAjALt6ggmA",
    "outputId": "77502376-7e7b-46d3-d26f-2a1cde98d80f"
   },
   "outputs": [
    {
     "data": {
      "text/plain": [
       "array([[27],\n",
       "       [28],\n",
       "       [10]])"
      ]
     },
     "execution_count": 5,
     "metadata": {},
     "output_type": "execute_result"
    }
   ],
   "source": [
    "np.dot(a,b.T)"
   ]
  },
  {
   "cell_type": "code",
   "execution_count": null,
   "metadata": {
    "id": "TcZyBea3hBNf"
   },
   "outputs": [],
   "source": [
    "#3x + 2y + z = 45\n",
    "#x + y + 5z = 67\n",
    "#5x + 5y + 2z = 50"
   ]
  },
  {
   "cell_type": "code",
   "execution_count": null,
   "metadata": {
    "colab": {
     "base_uri": "https://localhost:8080/"
    },
    "id": "G8udn-Lsgirf",
    "outputId": "ba48d026-c254-4b28-bc0c-d3aa2313e5df"
   },
   "outputs": [
    {
     "name": "stdout",
     "output_type": "stream",
     "text": [
      "[[3 2 1]\n",
      " [1 1 5]\n",
      " [5 5 2]]\n"
     ]
    }
   ],
   "source": [
    "A = np.array([[3,2,1],[1,1,5],[5,5,2]])\n",
    "print(A)"
   ]
  },
  {
   "cell_type": "code",
   "execution_count": null,
   "metadata": {
    "colab": {
     "base_uri": "https://localhost:8080/"
    },
    "id": "EsBwRaWkg51J",
    "outputId": "650d12e8-41fc-45c2-bfd6-66edc4eded81"
   },
   "outputs": [
    {
     "name": "stdout",
     "output_type": "stream",
     "text": [
      "[['x']\n",
      " ['y']\n",
      " ['z']]\n"
     ]
    }
   ],
   "source": [
    "X = np.array([['x'],['y'],['z']])\n",
    "print(X)"
   ]
  },
  {
   "cell_type": "code",
   "execution_count": null,
   "metadata": {
    "colab": {
     "base_uri": "https://localhost:8080/"
    },
    "id": "OdyB74SGg-3O",
    "outputId": "ac68a1f5-5d42-49dd-c561-ac9271daf596"
   },
   "outputs": [
    {
     "name": "stdout",
     "output_type": "stream",
     "text": [
      "[[45]\n",
      " [67]\n",
      " [50]]\n"
     ]
    }
   ],
   "source": [
    "B = np.array([[45],[67],[50]])\n",
    "print(B)"
   ]
  },
  {
   "cell_type": "code",
   "execution_count": null,
   "metadata": {
    "colab": {
     "base_uri": "https://localhost:8080/"
    },
    "id": "c33pSlEFhKD5",
    "outputId": "a610230e-b657-46b9-a899-e7a45db498f1"
   },
   "outputs": [
    {
     "name": "stdout",
     "output_type": "stream",
     "text": [
      "[[ 1.         -0.04347826 -0.39130435]\n",
      " [-1.         -0.04347826  0.60869565]\n",
      " [ 0.          0.2173913  -0.04347826]]\n"
     ]
    }
   ],
   "source": [
    "#A.X = B\n",
    "#X = inv(A).B\n",
    "\n",
    "A_inv = np.linalg.inv(A)\n",
    "print(A_inv)"
   ]
  },
  {
   "cell_type": "code",
   "execution_count": null,
   "metadata": {
    "colab": {
     "base_uri": "https://localhost:8080/"
    },
    "id": "xvpaSCelhT7M",
    "outputId": "e0e075c2-ab17-47cc-caea-9a86e2428411"
   },
   "outputs": [
    {
     "name": "stdout",
     "output_type": "stream",
     "text": [
      "[[ 22.52173913]\n",
      " [-17.47826087]\n",
      " [ 12.39130435]]\n"
     ]
    }
   ],
   "source": [
    "X = np.dot(A_inv,B)\n",
    "print(X)"
   ]
  },
  {
   "cell_type": "code",
   "execution_count": null,
   "metadata": {
    "colab": {
     "base_uri": "https://localhost:8080/"
    },
    "id": "0pyDBGF0hYk2",
    "outputId": "c278d980-2ae9-45b8-ef6a-0242d3d2c792"
   },
   "outputs": [
    {
     "data": {
      "text/plain": [
       "array([[45.],\n",
       "       [67.],\n",
       "       [50.]])"
      ]
     },
     "execution_count": 12,
     "metadata": {},
     "output_type": "execute_result"
    }
   ],
   "source": [
    "np.dot(A,X)"
   ]
  },
  {
   "cell_type": "code",
   "execution_count": null,
   "metadata": {
    "id": "tTO-7GUkhbQT"
   },
   "outputs": [],
   "source": []
  }
 ],
 "metadata": {
  "colab": {
   "name": "Python_DS_Lib_Numpy_2.ipynb",
   "provenance": []
  },
  "kernelspec": {
   "display_name": "Python 3",
   "language": "python",
   "name": "python3"
  },
  "language_info": {
   "codemirror_mode": {
    "name": "ipython",
    "version": 3
   },
   "file_extension": ".py",
   "mimetype": "text/x-python",
   "name": "python",
   "nbconvert_exporter": "python",
   "pygments_lexer": "ipython3",
   "version": "3.8.8"
  }
 },
 "nbformat": 4,
 "nbformat_minor": 1
}
