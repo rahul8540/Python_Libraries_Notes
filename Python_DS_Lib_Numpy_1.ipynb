{
 "cells": [
  {
   "cell_type": "code",
   "execution_count": null,
   "metadata": {
    "id": "5qPNKY1rhzeX"
   },
   "outputs": [],
   "source": [
    "#Python Library for Data Science - Numpy,Pandas,Matplotlib"
   ]
  },
  {
   "cell_type": "code",
   "execution_count": null,
   "metadata": {
    "colab": {
     "base_uri": "https://localhost:8080/"
    },
    "id": "NCYcq5jLniSI",
    "outputId": "9c9d32ff-e319-4a0e-aeac-d6fa697a704c"
   },
   "outputs": [
    {
     "name": "stdout",
     "output_type": "stream",
     "text": [
      "[4, 6, 7, 2, 3]\n"
     ]
    }
   ],
   "source": [
    "l1 = [4,6,7,2,3]\n",
    "print(l1)"
   ]
  },
  {
   "cell_type": "code",
   "execution_count": null,
   "metadata": {
    "colab": {
     "base_uri": "https://localhost:8080/"
    },
    "id": "JttcJUPUnnkB",
    "outputId": "73e6b680-614c-4196-8d3a-36b7cff11068"
   },
   "outputs": [
    {
     "name": "stdout",
     "output_type": "stream",
     "text": [
      "[4, 6, 7, 2, 3, 4, 6, 7, 2, 3]\n"
     ]
    }
   ],
   "source": [
    "print(l1*2)"
   ]
  },
  {
   "cell_type": "code",
   "execution_count": null,
   "metadata": {
    "colab": {
     "base_uri": "https://localhost:8080/"
    },
    "id": "Bjz2fd9xnysu",
    "outputId": "fac429e1-b4f9-4521-baba-411391ff414d"
   },
   "outputs": [
    {
     "name": "stdout",
     "output_type": "stream",
     "text": [
      "[8, 12, 14, 4, 6]\n"
     ]
    }
   ],
   "source": [
    "l2 = []\n",
    "for val in l1:\n",
    "  l2.append(val*2)\n",
    "print(l2)"
   ]
  },
  {
   "cell_type": "code",
   "execution_count": null,
   "metadata": {
    "colab": {
     "base_uri": "https://localhost:8080/"
    },
    "id": "VmTyi8w1oHkr",
    "outputId": "8396dd4c-81ed-43e6-d3be-034a44c67873"
   },
   "outputs": [
    {
     "name": "stdout",
     "output_type": "stream",
     "text": [
      "[[5, 8, 8, 9, 4, 2], [5, 9, 6, 3, 2, 1], [5, 9, 8, 6, 5, 4]]\n"
     ]
    }
   ],
   "source": [
    "l2 = [[5,8,8,9,4,2] , [5,9,6,3,2,1] , [5,9,8,6,5,4]]\n",
    "print(l2)"
   ]
  },
  {
   "cell_type": "code",
   "execution_count": null,
   "metadata": {
    "colab": {
     "base_uri": "https://localhost:8080/"
    },
    "id": "orehQ11LnO2e",
    "outputId": "0a38cde9-d155-4d48-d571-e3f87a98fc36"
   },
   "outputs": [
    {
     "name": "stdout",
     "output_type": "stream",
     "text": [
      "[4 6 7 2 3]\n"
     ]
    }
   ],
   "source": [
    "#Numpy array\n",
    "import numpy as np\n",
    "a = np.array([4,6,7,2,3])\n",
    "print(a)"
   ]
  },
  {
   "cell_type": "code",
   "execution_count": null,
   "metadata": {
    "colab": {
     "base_uri": "https://localhost:8080/"
    },
    "id": "cbd4fz73naHR",
    "outputId": "f5f58c19-b581-41ee-bb3e-2d2d2f2bbc96"
   },
   "outputs": [
    {
     "name": "stdout",
     "output_type": "stream",
     "text": [
      "[ 8 12 14  4  6]\n"
     ]
    }
   ],
   "source": [
    "print(a*2)"
   ]
  },
  {
   "cell_type": "code",
   "execution_count": null,
   "metadata": {
    "colab": {
     "base_uri": "https://localhost:8080/"
    },
    "id": "4zHS4QFYnsh3",
    "outputId": "bfe93a12-d7e8-49e9-96ef-5eb1cea03e2d"
   },
   "outputs": [
    {
     "name": "stdout",
     "output_type": "stream",
     "text": [
      "[[5 8 8 9 4 2]\n",
      " [5 9 6 3 2 1]\n",
      " [5 9 8 6 5 4]]\n"
     ]
    }
   ],
   "source": [
    "b = np.array([[5, 8, 8, 9, 4, 2], [5, 9, 6, 3, 2, 1], [5, 9, 8, 6, 5, 4]])\n",
    "print(b)"
   ]
  },
  {
   "cell_type": "code",
   "execution_count": null,
   "metadata": {
    "colab": {
     "base_uri": "https://localhost:8080/"
    },
    "id": "Cz0WBW_9oUZZ",
    "outputId": "5b71857f-5083-437b-e412-5007d158d959"
   },
   "outputs": [
    {
     "name": "stdout",
     "output_type": "stream",
     "text": [
      "[['5' '8' '8' '9' '4' '2']\n",
      " ['5' '9' 'ABC' '3' '2' '1']\n",
      " ['5' '9' '8' '6' '5' '4']]\n"
     ]
    }
   ],
   "source": [
    "c = np.array([[5, 8, 8, 9, 4, 2], [5, 9, 'ABC', 3, 2, 1], [5, 9, 8, 6, 5, 4]])\n",
    "print(c)"
   ]
  },
  {
   "cell_type": "code",
   "execution_count": null,
   "metadata": {
    "colab": {
     "base_uri": "https://localhost:8080/"
    },
    "id": "F3JlJiburacm",
    "outputId": "6cf7d756-e995-40f5-db68-3ed4fb750543"
   },
   "outputs": [
    {
     "name": "stdout",
     "output_type": "stream",
     "text": [
      "[[5 8 8 9 4 2]\n",
      " [5 9 6 3 2 1]\n",
      " [5 9 8 6 5 4]]\n"
     ]
    }
   ],
   "source": [
    "print(b)"
   ]
  },
  {
   "cell_type": "code",
   "execution_count": null,
   "metadata": {
    "colab": {
     "base_uri": "https://localhost:8080/"
    },
    "id": "3ZHOpu8IpA-A",
    "outputId": "8a0dc37a-03f9-4da7-877b-f2c4fc6055f6"
   },
   "outputs": [
    {
     "name": "stdout",
     "output_type": "stream",
     "text": [
      "(3, 6)\n",
      "18\n",
      "2\n"
     ]
    }
   ],
   "source": [
    "#properties of numpy array : - shape,size,dimensions\n",
    "print(b.shape)\n",
    "print(b.size)\n",
    "print(b.ndim)"
   ]
  },
  {
   "cell_type": "code",
   "execution_count": null,
   "metadata": {
    "colab": {
     "base_uri": "https://localhost:8080/"
    },
    "id": "f_YcBnzVrcoq",
    "outputId": "e9a928bd-c2d4-4ab7-9821-370f545f1997"
   },
   "outputs": [
    {
     "name": "stdout",
     "output_type": "stream",
     "text": [
      "8\n",
      "2\n",
      "2\n"
     ]
    }
   ],
   "source": [
    "#address of any value - array[row index,column index]\n",
    "print(b[0,1])\n",
    "print(b[1,4])\n",
    "print(b[1][4])"
   ]
  },
  {
   "cell_type": "code",
   "execution_count": null,
   "metadata": {
    "colab": {
     "base_uri": "https://localhost:8080/"
    },
    "id": "AT4TwPFwssK-",
    "outputId": "cd2e31a7-a0c9-4f92-ad69-a362093e7cb1"
   },
   "outputs": [
    {
     "name": "stdout",
     "output_type": "stream",
     "text": [
      "[5 8 8 9 4 2]\n"
     ]
    }
   ],
   "source": [
    "print(b[0])"
   ]
  },
  {
   "cell_type": "code",
   "execution_count": null,
   "metadata": {
    "colab": {
     "base_uri": "https://localhost:8080/"
    },
    "id": "xQJ9KNFrsxPq",
    "outputId": "6b59775b-1938-49c7-edcf-98b7a6da3a6d"
   },
   "outputs": [
    {
     "name": "stdout",
     "output_type": "stream",
     "text": [
      "[5 9 6 3 2 1]\n"
     ]
    }
   ],
   "source": [
    "print(b[1])"
   ]
  },
  {
   "cell_type": "code",
   "execution_count": null,
   "metadata": {
    "colab": {
     "base_uri": "https://localhost:8080/"
    },
    "id": "NypSCqdKs0hf",
    "outputId": "b9076a04-afb4-4665-9369-ae96532f22cb"
   },
   "outputs": [
    {
     "name": "stdout",
     "output_type": "stream",
     "text": [
      "[5 9 8 6 5 4]\n"
     ]
    }
   ],
   "source": [
    "print(b[2])"
   ]
  },
  {
   "cell_type": "code",
   "execution_count": null,
   "metadata": {
    "colab": {
     "base_uri": "https://localhost:8080/"
    },
    "id": "S2OKb6WLs6ok",
    "outputId": "4d68eb14-5d51-4b6d-9b2e-ebd4a9a96abd"
   },
   "outputs": [
    {
     "name": "stdout",
     "output_type": "stream",
     "text": [
      "[[5 8 8]]\n"
     ]
    }
   ],
   "source": [
    "#array[row slicing,column slicing]\n",
    "print(b[0:1 , 0:3])"
   ]
  },
  {
   "cell_type": "code",
   "execution_count": null,
   "metadata": {
    "colab": {
     "base_uri": "https://localhost:8080/"
    },
    "id": "2FAx6FDMvejQ",
    "outputId": "ee488378-897a-4dba-d30f-ac278e11b4e4"
   },
   "outputs": [
    {
     "name": "stdout",
     "output_type": "stream",
     "text": [
      "[[5 8 8 9 4 2]\n",
      " [5 9 6 3 2 1]\n",
      " [5 9 8 6 5 4]]\n"
     ]
    }
   ],
   "source": [
    "b = np.array([[5, 8, 8, 9, 4, 2], [5, 9, 6, 3, 2, 1], [5, 9, 8, 6, 5, 4]])\n",
    "print(b)"
   ]
  },
  {
   "cell_type": "code",
   "execution_count": null,
   "metadata": {
    "colab": {
     "base_uri": "https://localhost:8080/"
    },
    "id": "9Az3BohxtcpJ",
    "outputId": "eeeea6b0-8aaf-44f2-9622-345e9809f6ca"
   },
   "outputs": [
    {
     "name": "stdout",
     "output_type": "stream",
     "text": [
      "[[5 8 8 9 4 2]\n",
      " [5 9 6 3 2 1]\n",
      " [5 9 8 6 5 4]]\n"
     ]
    }
   ],
   "source": [
    "print(b)"
   ]
  },
  {
   "cell_type": "code",
   "execution_count": null,
   "metadata": {
    "colab": {
     "base_uri": "https://localhost:8080/"
    },
    "id": "QY6vTmKUtvnF",
    "outputId": "c7bfcdeb-3e6f-4268-e717-336334ce27b3"
   },
   "outputs": [
    {
     "name": "stdout",
     "output_type": "stream",
     "text": [
      "[[6 3 2]\n",
      " [8 6 5]]\n"
     ]
    }
   ],
   "source": [
    "#array[initial row index : initial row index+steps , initial col index:intial col index+steps]\n",
    "print(b[1:3 , 2:5])"
   ]
  },
  {
   "cell_type": "code",
   "execution_count": null,
   "metadata": {
    "colab": {
     "base_uri": "https://localhost:8080/"
    },
    "id": "XnQviSR7vAEg",
    "outputId": "9dfd5ee3-3cd6-45db-9ea3-b00f666f7dfc"
   },
   "outputs": [
    {
     "data": {
      "text/plain": [
       "array([[6, 3, 2],\n",
       "       [8, 6, 5]])"
      ]
     },
     "execution_count": 68,
     "metadata": {},
     "output_type": "execute_result"
    }
   ],
   "source": [
    "bs = b[1:3 , 2:5].copy()\n",
    "bs"
   ]
  },
  {
   "cell_type": "code",
   "execution_count": null,
   "metadata": {
    "colab": {
     "base_uri": "https://localhost:8080/"
    },
    "id": "2OWA9i46vGN6",
    "outputId": "fd947f86-11f8-4fb5-d582-e09848d245ea"
   },
   "outputs": [
    {
     "name": "stdout",
     "output_type": "stream",
     "text": [
      "[[ 6 33  2]\n",
      " [ 8  6  5]]\n"
     ]
    }
   ],
   "source": [
    "bs[0,1] = 33\n",
    "print(bs)"
   ]
  },
  {
   "cell_type": "code",
   "execution_count": null,
   "metadata": {
    "colab": {
     "base_uri": "https://localhost:8080/"
    },
    "id": "7xgGJlqcvOlP",
    "outputId": "3c0ba863-ceae-4c00-b587-74a987e732d8"
   },
   "outputs": [
    {
     "name": "stdout",
     "output_type": "stream",
     "text": [
      "[[5 8 8 9 4 2]\n",
      " [5 9 6 3 2 1]\n",
      " [5 9 8 6 5 4]]\n"
     ]
    }
   ],
   "source": [
    "print(b)"
   ]
  },
  {
   "cell_type": "code",
   "execution_count": null,
   "metadata": {
    "colab": {
     "base_uri": "https://localhost:8080/"
    },
    "id": "h-kF8maZpqXW",
    "outputId": "dc690baf-29f3-47a6-a304-da2d0847a6ac"
   },
   "outputs": [
    {
     "name": "stdout",
     "output_type": "stream",
     "text": [
      "[[[5 7 6 4]\n",
      "  [7 5 4 2]\n",
      "  [6 8 9 3]]\n",
      "\n",
      " [[5 9 8 7]\n",
      "  [3 7 3 2]\n",
      "  [5 9 8 5]]]\n"
     ]
    }
   ],
   "source": [
    "d = np.array([[[5,7,6,4] , [7,5,4,2] , [6,8,9,3]] , [[5,9,8,7] , [3,7,3,2] , [5,9,8,5]]])\n",
    "\n",
    "print(d)"
   ]
  },
  {
   "cell_type": "code",
   "execution_count": null,
   "metadata": {
    "id": "TNzLvj5nszVb"
   },
   "outputs": [],
   "source": []
  },
  {
   "cell_type": "code",
   "execution_count": null,
   "metadata": {
    "colab": {
     "base_uri": "https://localhost:8080/"
    },
    "id": "qe5Nrxt5qKP7",
    "outputId": "8524b6a5-133c-45bd-a1bd-78def89b731e"
   },
   "outputs": [
    {
     "name": "stdout",
     "output_type": "stream",
     "text": [
      "(2, 3, 4)\n",
      "24\n",
      "3\n"
     ]
    }
   ],
   "source": [
    "print(d.shape)\n",
    "print(d.size)\n",
    "print(d.ndim)"
   ]
  },
  {
   "cell_type": "code",
   "execution_count": null,
   "metadata": {
    "colab": {
     "base_uri": "https://localhost:8080/"
    },
    "id": "aMiInRylqfav",
    "outputId": "75eca4e6-6fb8-45a4-98e8-4ed75d04b380"
   },
   "outputs": [
    {
     "name": "stdout",
     "output_type": "stream",
     "text": [
      "9\n",
      "8\n"
     ]
    }
   ],
   "source": [
    "#array[floor index,row index,column index]\n",
    "print(d[0,2,2])\n",
    "print(d[1,2,2])"
   ]
  },
  {
   "cell_type": "code",
   "execution_count": null,
   "metadata": {
    "colab": {
     "base_uri": "https://localhost:8080/"
    },
    "id": "db6NAH0Bx8rK",
    "outputId": "6d4d84e8-2e69-4eab-cb31-a37f018c5cb3"
   },
   "outputs": [
    {
     "name": "stdout",
     "output_type": "stream",
     "text": [
      "[[5 8 8 9 4 2]\n",
      " [5 9 6 3 2 1]\n",
      " [5 9 8 6 5 4]]\n"
     ]
    }
   ],
   "source": [
    "b = np.array([[5, 8, 8, 9, 4, 2], [5, 9, 6, 3, 2, 1], [5, 9, 8, 6, 5, 4]])\n",
    "print(b)"
   ]
  },
  {
   "cell_type": "code",
   "execution_count": null,
   "metadata": {
    "colab": {
     "base_uri": "https://localhost:8080/"
    },
    "id": "HQ-EW_MesTVW",
    "outputId": "815ba866-7913-487e-ed98-85624d4dff6b"
   },
   "outputs": [
    {
     "name": "stdout",
     "output_type": "stream",
     "text": [
      "[[5 8 8 9 4 2]\n",
      " [5 9 6 3 2 1]\n",
      " [5 9 8 6 5 4]]\n"
     ]
    }
   ],
   "source": [
    "print(b)"
   ]
  },
  {
   "cell_type": "code",
   "execution_count": null,
   "metadata": {
    "colab": {
     "base_uri": "https://localhost:8080/"
    },
    "id": "UthmWFvuvx4k",
    "outputId": "66c343d4-2d13-44c2-bc44-2d9f7dbe345f"
   },
   "outputs": [
    {
     "name": "stdout",
     "output_type": "stream",
     "text": [
      "99\n",
      "1612431360000\n",
      "1\n",
      "9\n",
      "5.5\n",
      "2.5\n",
      "3\n",
      "11\n"
     ]
    }
   ],
   "source": [
    "print(np.sum(b))\n",
    "print(np.prod(b))\n",
    "print(np.min(b))\n",
    "print(np.max(b))\n",
    "print(np.mean(b))\n",
    "print(np.std(b))\n",
    "print(np.argmax(b))\n",
    "print(np.argmin(b))"
   ]
  },
  {
   "cell_type": "code",
   "execution_count": null,
   "metadata": {
    "colab": {
     "base_uri": "https://localhost:8080/"
    },
    "id": "9J-7uuB_yfBW",
    "outputId": "9838fa95-3161-4a66-ce81-204060e52e65"
   },
   "outputs": [
    {
     "name": "stdout",
     "output_type": "stream",
     "text": [
      "[[5 8 8 9 4 2]\n",
      " [5 9 6 3 2 1]\n",
      " [5 9 8 6 5 4]]\n"
     ]
    }
   ],
   "source": [
    "print(b)"
   ]
  },
  {
   "cell_type": "code",
   "execution_count": null,
   "metadata": {
    "colab": {
     "base_uri": "https://localhost:8080/"
    },
    "id": "5Ki-k79NxxC3",
    "outputId": "828ba218-b63d-4e65-903c-4ec7f93aff9e"
   },
   "outputs": [
    {
     "name": "stdout",
     "output_type": "stream",
     "text": [
      "[15 26 22 18 11  7]\n",
      "[125 648 384 162  40   8]\n",
      "[5 8 6 3 2 1]\n",
      "[5 9 8 9 5 4]\n",
      "[5.         8.66666667 7.33333333 6.         3.66666667 2.33333333]\n",
      "[0.         0.47140452 0.94280904 2.44948974 1.24721913 1.24721913]\n",
      "[0 1 0 0 2 2]\n",
      "[0 0 1 1 1 1]\n"
     ]
    }
   ],
   "source": [
    "#for column analysis\n",
    "print(np.sum(b , axis=0))\n",
    "print(np.prod(b , axis=0))\n",
    "print(np.min(b , axis=0))\n",
    "print(np.max(b , axis=0))\n",
    "print(np.mean(b , axis=0))\n",
    "print(np.std(b , axis=0))\n",
    "print(np.argmax(b , axis=0))\n",
    "print(np.argmin(b , axis=0))"
   ]
  },
  {
   "cell_type": "code",
   "execution_count": null,
   "metadata": {
    "colab": {
     "base_uri": "https://localhost:8080/"
    },
    "id": "SC9-bnUzyEW8",
    "outputId": "13aa6301-11dc-45f6-895b-b3e36bc7e66e"
   },
   "outputs": [
    {
     "name": "stdout",
     "output_type": "stream",
     "text": [
      "[36 26 37]\n",
      "[23040  1620 43200]\n",
      "[2 1 4]\n",
      "[9 9 9]\n",
      "[6.         4.33333333 6.16666667]\n",
      "[2.51661148 2.68741925 1.77169097]\n",
      "[3 1 1]\n",
      "[5 5 5]\n"
     ]
    }
   ],
   "source": [
    "#for row analysis\n",
    "print(np.sum(b , axis=1))\n",
    "print(np.prod(b , axis=1))\n",
    "print(np.min(b , axis=1))\n",
    "print(np.max(b , axis=1))\n",
    "print(np.mean(b , axis=1))\n",
    "print(np.std(b , axis=1))\n",
    "print(np.argmax(b , axis=1))\n",
    "print(np.argmin(b , axis=1))"
   ]
  },
  {
   "cell_type": "code",
   "execution_count": null,
   "metadata": {
    "colab": {
     "base_uri": "https://localhost:8080/"
    },
    "id": "htn-WR47yy86",
    "outputId": "2b0a5dfe-2938-4bb5-f16c-42b93fc18f63"
   },
   "outputs": [
    {
     "name": "stdout",
     "output_type": "stream",
     "text": [
      "[[ 5  8  8 -9  4  2]\n",
      " [ 5  9  6  3  2  1]\n",
      " [ 5  9  8  6  5  4]]\n"
     ]
    }
   ],
   "source": [
    "b = np.array([[5, 8, 8, -9, 4, 2], [5, 9, 6, 3, 2, 1], [5, 9, 8, 6, 5, 4]])\n",
    "print(b)"
   ]
  },
  {
   "cell_type": "code",
   "execution_count": null,
   "metadata": {
    "colab": {
     "base_uri": "https://localhost:8080/"
    },
    "id": "1joCB_bB0QKa",
    "outputId": "6ca21981-04e0-497e-ac36-26cf5e97a773"
   },
   "outputs": [
    {
     "data": {
      "text/plain": [
       "array([[-9,  2,  4,  5,  8,  8],\n",
       "       [ 1,  2,  3,  5,  6,  9],\n",
       "       [ 4,  5,  5,  6,  8,  9]])"
      ]
     },
     "execution_count": 98,
     "metadata": {},
     "output_type": "execute_result"
    }
   ],
   "source": [
    "np.sort(b,axis=1)"
   ]
  },
  {
   "cell_type": "code",
   "execution_count": null,
   "metadata": {
    "colab": {
     "base_uri": "https://localhost:8080/"
    },
    "id": "ySdZyGEkw8aI",
    "outputId": "4c2ebc9d-e29c-4cdd-ea9b-5b7219f1ef69"
   },
   "outputs": [
    {
     "data": {
      "text/plain": [
       "array([[ 5,  8,  6, -9,  2,  1],\n",
       "       [ 5,  9,  8,  3,  4,  2],\n",
       "       [ 5,  9,  8,  6,  5,  4]])"
      ]
     },
     "execution_count": 92,
     "metadata": {},
     "output_type": "execute_result"
    }
   ],
   "source": [
    "np.sort(b,axis=0)"
   ]
  },
  {
   "cell_type": "code",
   "execution_count": null,
   "metadata": {
    "colab": {
     "base_uri": "https://localhost:8080/"
    },
    "id": "PpOpx5110zdn",
    "outputId": "e62361ac-ce87-45e1-a247-343e47e259c5"
   },
   "outputs": [
    {
     "data": {
      "text/plain": [
       "array([[0, 0, 0, 0, 0],\n",
       "       [0, 0, 0, 0, 0],\n",
       "       [0, 0, 0, 0, 0],\n",
       "       [0, 0, 0, 0, 0]])"
      ]
     },
     "execution_count": 115,
     "metadata": {},
     "output_type": "execute_result"
    }
   ],
   "source": [
    "np.zeros([4,5],dtype=int)"
   ]
  },
  {
   "cell_type": "code",
   "execution_count": null,
   "metadata": {
    "colab": {
     "base_uri": "https://localhost:8080/"
    },
    "id": "DfOnC40c0Uds",
    "outputId": "5b5fd8c0-6e2b-4ef0-8c27-b7e82f3cb8cc"
   },
   "outputs": [
    {
     "data": {
      "text/plain": [
       "array([[1., 1., 1., 1.],\n",
       "       [1., 1., 1., 1.],\n",
       "       [1., 1., 1., 1.]])"
      ]
     },
     "execution_count": 101,
     "metadata": {},
     "output_type": "execute_result"
    }
   ],
   "source": [
    "np.ones([3,4])"
   ]
  },
  {
   "cell_type": "code",
   "execution_count": null,
   "metadata": {
    "colab": {
     "base_uri": "https://localhost:8080/"
    },
    "id": "SZ1eAJVl04jC",
    "outputId": "7fc2ab83-8adb-412a-a617-990bb9f12f13"
   },
   "outputs": [
    {
     "data": {
      "text/plain": [
       "array([[1., 0., 0., 0.],\n",
       "       [0., 1., 0., 0.],\n",
       "       [0., 0., 1., 0.],\n",
       "       [0., 0., 0., 1.]])"
      ]
     },
     "execution_count": 102,
     "metadata": {},
     "output_type": "execute_result"
    }
   ],
   "source": [
    "np.eye(4)"
   ]
  },
  {
   "cell_type": "code",
   "execution_count": null,
   "metadata": {
    "colab": {
     "base_uri": "https://localhost:8080/"
    },
    "id": "hpxNRnN-06xc",
    "outputId": "fb5486d2-5f98-4ca0-f06b-d09637eb2311"
   },
   "outputs": [
    {
     "name": "stdout",
     "output_type": "stream",
     "text": [
      "[-36 -35 -34 -33 -32 -31 -30 -29 -28 -27 -26 -25 -24 -23 -22 -21 -20 -19\n",
      " -18 -17 -16 -15 -14 -13 -12 -11 -10  -9  -8  -7  -6  -5  -4  -3  -2  -1\n",
      "   0   1   2   3   4   5   6   7   8   9  10  11  12  13  14  15  16  17\n",
      "  18  19  20  21  22  23  24  25  26  27  28  29  30  31  32  33  34  35]\n"
     ]
    }
   ],
   "source": [
    "#array + range\n",
    "n1 = np.arange(-36,36)\n",
    "print(n1)"
   ]
  },
  {
   "cell_type": "code",
   "execution_count": null,
   "metadata": {
    "colab": {
     "base_uri": "https://localhost:8080/"
    },
    "id": "49GkIBeT1ANf",
    "outputId": "3b2fbfcf-b86b-42c8-9181-19e7e83cc3a8"
   },
   "outputs": [
    {
     "data": {
      "text/plain": [
       "array([[-36, -35, -34, -33, -32, -31, -30, -29],\n",
       "       [-28, -27, -26, -25, -24, -23, -22, -21],\n",
       "       [-20, -19, -18, -17, -16, -15, -14, -13],\n",
       "       [-12, -11, -10,  -9,  -8,  -7,  -6,  -5],\n",
       "       [ -4,  -3,  -2,  -1,   0,   1,   2,   3],\n",
       "       [  4,   5,   6,   7,   8,   9,  10,  11],\n",
       "       [ 12,  13,  14,  15,  16,  17,  18,  19],\n",
       "       [ 20,  21,  22,  23,  24,  25,  26,  27],\n",
       "       [ 28,  29,  30,  31,  32,  33,  34,  35]])"
      ]
     },
     "execution_count": 122,
     "metadata": {},
     "output_type": "execute_result"
    }
   ],
   "source": [
    "n1.reshape(9,8)   #to reshape or change the shape of an array"
   ]
  },
  {
   "cell_type": "code",
   "execution_count": null,
   "metadata": {
    "colab": {
     "base_uri": "https://localhost:8080/"
    },
    "id": "J9S0giBQ1FH5",
    "outputId": "8f42e1dd-f17e-4fa6-aeee-ea1401794b67"
   },
   "outputs": [
    {
     "data": {
      "text/plain": [
       "array([[ 0,  1,  2,  3,  4,  5],\n",
       "       [ 6,  7,  8,  9, 10, 11],\n",
       "       [12, 13, 14, 15, 16, 17],\n",
       "       [18, 19, 20, 21, 22, 23],\n",
       "       [24, 25, 26, 27, 28, 29],\n",
       "       [30, 31, 32, 33, 34, 35]])"
      ]
     },
     "execution_count": 105,
     "metadata": {},
     "output_type": "execute_result"
    }
   ],
   "source": [
    "n1.reshape(6,6)"
   ]
  },
  {
   "cell_type": "code",
   "execution_count": null,
   "metadata": {
    "colab": {
     "base_uri": "https://localhost:8080/"
    },
    "id": "Fkt8Jhnw1H8d",
    "outputId": "50498355-d8a5-48f5-d0d1-92a3498cd147"
   },
   "outputs": [
    {
     "data": {
      "text/plain": [
       "array([[5.+0.j, 8.+0.j, 9.+0.j, 2.+0.j],\n",
       "       [4.+0.j, 5.+0.j, 3.+0.j, 2.+0.j]])"
      ]
     },
     "execution_count": 107,
     "metadata": {},
     "output_type": "execute_result"
    }
   ],
   "source": [
    "n2 = np.array([[5,8,9,2],[4,5,3,2]],dtype=complex)\n",
    "n2"
   ]
  },
  {
   "cell_type": "code",
   "execution_count": null,
   "metadata": {
    "id": "HGGvZiox11cf"
   },
   "outputs": [],
   "source": [
    "#Stacking\n",
    "\n",
    "a = np.array([[6,8,8,3,2],[8,9,4,3,1]])\n",
    "b = np.array([[4,8,9,4,3]])"
   ]
  },
  {
   "cell_type": "code",
   "execution_count": null,
   "metadata": {
    "colab": {
     "base_uri": "https://localhost:8080/"
    },
    "id": "f6zTvEum1jyY",
    "outputId": "880b52fd-a224-43a4-cc35-a9d34c393111"
   },
   "outputs": [
    {
     "name": "stdout",
     "output_type": "stream",
     "text": [
      "[[6 8 8 3 2]\n",
      " [8 9 4 3 1]]\n"
     ]
    }
   ],
   "source": [
    "print(a)"
   ]
  },
  {
   "cell_type": "code",
   "execution_count": null,
   "metadata": {
    "colab": {
     "base_uri": "https://localhost:8080/"
    },
    "id": "NNgkabqc2AEy",
    "outputId": "bacf7d0e-e22c-4b92-fd2c-36973d1094f5"
   },
   "outputs": [
    {
     "name": "stdout",
     "output_type": "stream",
     "text": [
      "[[4 8 9 4 3]]\n"
     ]
    }
   ],
   "source": [
    "print(b)"
   ]
  },
  {
   "cell_type": "code",
   "execution_count": null,
   "metadata": {
    "colab": {
     "base_uri": "https://localhost:8080/"
    },
    "id": "78XnpMXz2Azz",
    "outputId": "84809403-6b9d-458d-a699-b1bf892630b1"
   },
   "outputs": [
    {
     "data": {
      "text/plain": [
       "array([[6, 8, 8, 3, 2],\n",
       "       [8, 9, 4, 3, 1],\n",
       "       [4, 8, 9, 4, 3]])"
      ]
     },
     "execution_count": 112,
     "metadata": {},
     "output_type": "execute_result"
    }
   ],
   "source": [
    "#Vertical Stacking\n",
    "np.vstack((a,b))"
   ]
  },
  {
   "cell_type": "code",
   "execution_count": null,
   "metadata": {
    "colab": {
     "base_uri": "https://localhost:8080/"
    },
    "id": "N_s0e8U72H_A",
    "outputId": "8f14e11f-dd5a-4a90-c145-356215f49125"
   },
   "outputs": [
    {
     "name": "stdout",
     "output_type": "stream",
     "text": [
      "[[4 5 1]\n",
      " [6 9 6]]\n"
     ]
    }
   ],
   "source": [
    "c = np.array([[4,5,1],[6,9,6]])\n",
    "print(c)"
   ]
  },
  {
   "cell_type": "code",
   "execution_count": null,
   "metadata": {
    "colab": {
     "base_uri": "https://localhost:8080/"
    },
    "id": "-4aDqkcQ2W5m",
    "outputId": "9d4572ee-c7e2-49ca-dac7-dcfa41a61259"
   },
   "outputs": [
    {
     "data": {
      "text/plain": [
       "array([[6, 8, 8, 3, 2, 4, 5, 1],\n",
       "       [8, 9, 4, 3, 1, 6, 9, 6]])"
      ]
     },
     "execution_count": 114,
     "metadata": {},
     "output_type": "execute_result"
    }
   ],
   "source": [
    "#Horizontal Stacking\n",
    "np.hstack((a,c))"
   ]
  },
  {
   "cell_type": "code",
   "execution_count": null,
   "metadata": {
    "colab": {
     "base_uri": "https://localhost:8080/"
    },
    "id": "xzFsmQ1m2Zq0",
    "outputId": "bb34b4af-6517-4dfe-bbeb-9c62f9178fbe"
   },
   "outputs": [
    {
     "name": "stdout",
     "output_type": "stream",
     "text": [
      "[[6 8 8 3 2]\n",
      " [8 9 4 3 1]]\n"
     ]
    }
   ],
   "source": [
    "print(a)"
   ]
  },
  {
   "cell_type": "code",
   "execution_count": null,
   "metadata": {
    "colab": {
     "base_uri": "https://localhost:8080/"
    },
    "id": "1iZk0QjE4kHT",
    "outputId": "d1901ff6-37e9-4427-9e78-b9ed70b343d6"
   },
   "outputs": [
    {
     "data": {
      "text/plain": [
       "array([[6, 8],\n",
       "       [8, 9],\n",
       "       [8, 4],\n",
       "       [3, 3],\n",
       "       [2, 1]])"
      ]
     },
     "execution_count": 124,
     "metadata": {},
     "output_type": "execute_result"
    }
   ],
   "source": [
    "np.transpose(a)"
   ]
  },
  {
   "cell_type": "code",
   "execution_count": null,
   "metadata": {
    "colab": {
     "base_uri": "https://localhost:8080/"
    },
    "id": "xs3o0LM44m83",
    "outputId": "954e9f90-7f8e-431b-de91-27677ea823b4"
   },
   "outputs": [
    {
     "data": {
      "text/plain": [
       "array([[6, 8],\n",
       "       [8, 9],\n",
       "       [8, 4],\n",
       "       [3, 3],\n",
       "       [2, 1]])"
      ]
     },
     "execution_count": 125,
     "metadata": {},
     "output_type": "execute_result"
    }
   ],
   "source": [
    "a.T"
   ]
  },
  {
   "cell_type": "code",
   "execution_count": null,
   "metadata": {
    "colab": {
     "base_uri": "https://localhost:8080/",
     "height": 248
    },
    "id": "gKd5C19s4oXr",
    "outputId": "9b94ad15-c556-41aa-e6f1-2138bde4c08a"
   },
   "outputs": [
    {
     "name": "stdout",
     "output_type": "stream",
     "text": [
      "[4 6 7 2 3]\n"
     ]
    },
    {
     "ename": "TypeError",
     "evalue": "ignored",
     "output_type": "error",
     "traceback": [
      "\u001b[0;31m---------------------------------------------------------------------------\u001b[0m",
      "\u001b[0;31mTypeError\u001b[0m                                 Traceback (most recent call last)",
      "\u001b[0;32m<ipython-input-1-1056f3209060>\u001b[0m in \u001b[0;36m<module>\u001b[0;34m()\u001b[0m\n\u001b[1;32m      4\u001b[0m \u001b[0mprint\u001b[0m\u001b[0;34m(\u001b[0m\u001b[0ma\u001b[0m\u001b[0;34m)\u001b[0m\u001b[0;34m\u001b[0m\u001b[0;34m\u001b[0m\u001b[0m\n\u001b[1;32m      5\u001b[0m \u001b[0mb\u001b[0m \u001b[0;34m=\u001b[0m \u001b[0mnp\u001b[0m\u001b[0;34m.\u001b[0m\u001b[0marray\u001b[0m\u001b[0;34m(\u001b[0m\u001b[0;34m[\u001b[0m\u001b[0;34m[\u001b[0m\u001b[0;36m1\u001b[0m\u001b[0;34m,\u001b[0m\u001b[0;36m2\u001b[0m\u001b[0;34m,\u001b[0m\u001b[0;34m\"ABC\"\u001b[0m\u001b[0;34m,\u001b[0m\u001b[0;36m4\u001b[0m\u001b[0;34m,\u001b[0m\u001b[0;36m5\u001b[0m\u001b[0;34m]\u001b[0m\u001b[0;34m,\u001b[0m\u001b[0;34m[\u001b[0m\u001b[0;36m3\u001b[0m\u001b[0;34m,\u001b[0m\u001b[0;36m4\u001b[0m\u001b[0;34m,\u001b[0m\u001b[0;36m5\u001b[0m\u001b[0;34m,\u001b[0m\u001b[0;36m6\u001b[0m\u001b[0;34m,\u001b[0m\u001b[0;36m7\u001b[0m\u001b[0;34m]\u001b[0m\u001b[0;34m,\u001b[0m\u001b[0;34m[\u001b[0m\u001b[0;36m75\u001b[0m\u001b[0;34m,\u001b[0m\u001b[0;36m45\u001b[0m\u001b[0;34m,\u001b[0m\u001b[0;36m32\u001b[0m\u001b[0;34m,\u001b[0m\u001b[0;36m12\u001b[0m\u001b[0;34m,\u001b[0m\u001b[0;36m11\u001b[0m\u001b[0;34m]\u001b[0m\u001b[0;34m]\u001b[0m\u001b[0;34m)\u001b[0m\u001b[0;34m\u001b[0m\u001b[0;34m\u001b[0m\u001b[0m\n\u001b[0;32m----> 6\u001b[0;31m \u001b[0mc\u001b[0m\u001b[0;34m=\u001b[0m\u001b[0mint\u001b[0m\u001b[0;34m(\u001b[0m\u001b[0mb\u001b[0m\u001b[0;34m)\u001b[0m\u001b[0;34m\u001b[0m\u001b[0;34m\u001b[0m\u001b[0m\n\u001b[0m\u001b[1;32m      7\u001b[0m \u001b[0mprint\u001b[0m\u001b[0;34m(\u001b[0m\u001b[0mc\u001b[0m\u001b[0;34m)\u001b[0m\u001b[0;34m\u001b[0m\u001b[0;34m\u001b[0m\u001b[0m\n",
      "\u001b[0;31mTypeError\u001b[0m: only size-1 arrays can be converted to Python scalars"
     ]
    }
   ],
   "source": [
    "import numpy as np\n",
    "\n",
    "a = np.array([4, 6, 7, 2, 3])\n",
    "print(a)"
   ]
  },
  {
   "cell_type": "code",
   "execution_count": null,
   "metadata": {
    "colab": {
     "base_uri": "https://localhost:8080/"
    },
    "id": "JKNAguYQeH6B",
    "outputId": "3988c30a-28c6-4936-d8f5-3f2fefacd22c"
   },
   "outputs": [
    {
     "name": "stdout",
     "output_type": "stream",
     "text": [
      "[['1' '2' 'ABC' '4' '5']\n",
      " ['3' '4' '5' '6' '7']\n",
      " ['75' '45' '32' '12' '11']]\n"
     ]
    }
   ],
   "source": [
    "b = np.array([[1,2,\"ABC\",4,5],[3,4,5,6,7],[75,45,32,12,11]])\n",
    "print(b)"
   ]
  },
  {
   "cell_type": "code",
   "execution_count": null,
   "metadata": {
    "id": "WHEPuCBLc0bX"
   },
   "outputs": [],
   "source": [
    "b = np.array([[1,2,\"ABC\",4,5],[3,4,5,6,7],[75,45,32,12,11]])\n",
    "\n",
    "b1 = []\n",
    "b2 = []\n",
    "for val in b:\n",
    "  for i in val:\n",
    "    try:\n",
    "      #print(int(i))\n",
    "      b2.append(int(i))\n",
    "    except:\n",
    "      #print(ord(i[0]),ord(i[1]),ord(i[2]))\n",
    "      b2.append(ord(i[0])+ord(i[1])+ord(i[2]))\n",
    "    b1.append(b2)\n",
    "    b2 = []"
   ]
  },
  {
   "cell_type": "code",
   "execution_count": null,
   "metadata": {
    "colab": {
     "base_uri": "https://localhost:8080/"
    },
    "id": "zklzGgyudBll",
    "outputId": "8795b8ea-e986-45e2-e53b-adeb0445875e"
   },
   "outputs": [
    {
     "name": "stdout",
     "output_type": "stream",
     "text": [
      "[[  1   2 198   4   5]\n",
      " [  3   4   5   6   7]\n",
      " [ 75  45  32  12  11]]\n"
     ]
    }
   ],
   "source": [
    "print(np.array(b1).reshape(3,5))"
   ]
  },
  {
   "cell_type": "code",
   "execution_count": null,
   "metadata": {
    "id": "x2EaMicaec3J"
   },
   "outputs": [],
   "source": []
  }
 ],
 "metadata": {
  "colab": {
   "name": "Python_DS_Lib_Numpy_1.ipynb",
   "provenance": []
  },
  "kernelspec": {
   "display_name": "Python 3",
   "language": "python",
   "name": "python3"
  },
  "language_info": {
   "codemirror_mode": {
    "name": "ipython",
    "version": 3
   },
   "file_extension": ".py",
   "mimetype": "text/x-python",
   "name": "python",
   "nbconvert_exporter": "python",
   "pygments_lexer": "ipython3",
   "version": "3.8.8"
  }
 },
 "nbformat": 4,
 "nbformat_minor": 1
}
